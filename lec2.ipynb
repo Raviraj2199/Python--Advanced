{
 "cells": [
  {
   "cell_type": "markdown",
   "metadata": {},
   "source": [
    "A. Calculating compound interest using periodic compounding\n",
    "1. Find the formula for calculating Compound interest (using Periodic compounding) on\n",
    "Wikipedia https://en.wikipedia.org/wiki/Compound_interest\n",
    "2. Go to https://docs.python.org/3/library/functions.html to review built-in function in Python\n",
    "3. Using Jupyter Notebooks in Anaconda, write code to calculate A (the final amount)\n",
    "rounded up to 2 decimal points (Hint:see round()function)\n",
    "4. Revise the code to get the values of all variables from users (Hint: see input()function)\n",
    "5. Submit the notebook in Canvas\n",
    "• Explain your code through comments in Code blocks\n",
    "• Explain the formula and your results in Text blocks\n"
   ]
  },
  {
   "cell_type": "code",
   "execution_count": null,
   "metadata": {},
   "outputs": [
    {
     "name": "stdout",
     "output_type": "stream",
     "text": [
      "Compound interest is 14147.78\n"
     ]
    }
   ],
   "source": [
    "# code to calculate A the final amount rounded up to 2 decimal points  \n",
    "#formula: amount = principal * (pow((1+rate/coumpounding frequency n), time)) \n",
    "#         CI = Amount - Principle\n",
    "# values taken: P= 10000, R=7% n=4, t= 5 years expected output: 14147.78\n",
    "\n",
    "def compound_interest(principle, rate, time, n):\n",
    "    #convert rate to decimal\n",
    "    rate = rate/100\n",
    "\n",
    "    #formula to calculate compound interest:\n",
    "    amount = principle * (pow((1+rate/n),time*n))\n",
    "    #calculate CI\n",
    "    CI = round(amount,2)\n",
    "    print(\"Compound interest is\", CI)\n",
    " \n",
    "#Taking input from user.\n",
    "principal = int(input(\"Enter the principal amount: \"))\n",
    "rate = int(input(\"Enter rate of interest: \"))\n",
    "n = int(input(\"Enter coumpounding frequency (~100):\"))\n",
    "time = int(input(\"Enter time in years: \" ))\n",
    "\n",
    "#Function Call\n",
    "compound_interest(principal,rate,time,n)\n"
   ]
  },
  {
   "cell_type": "code",
   "execution_count": 1,
   "metadata": {},
   "outputs": [
    {
     "name": "stdout",
     "output_type": "stream",
     "text": [
      "Compound Interest is: 4147.78\n",
      "Total Amount is: 14147.78\n"
     ]
    }
   ],
   "source": [
    "#1. Calculating compound interest using periodic compounding\n",
    "# code to calculate A the final amount rounded up to 2 decimal points  \n",
    "#formula: amount = principal * (pow((1+rate/coumpounding frequency n), time)) \n",
    "#         CI = Amount - Principle\n",
    "#         total =round(amount,2)\n",
    "\n",
    "def compound_interest(principal, rate, time, n):\n",
    "    # Convert rate to decimal\n",
    "    rate = rate / 100\n",
    "    # Formula to calculate compound interest\n",
    "    amount = principal * (pow((1 + rate / n), time * n))\n",
    "    # Calculate compound interest\n",
    "    compound_interest_value = round(amount - principal, 2)\n",
    "    print(\"Compound Interest is:\", compound_interest_value)\n",
    "    print(\"Total Amount is:\", round(amount, 2))\n",
    "\n",
    "# Taking input from user\n",
    "principal = float(input(\"Enter the principal amount: \"))\n",
    "rate = float(input(\"Enter the rate of interest (%): \"))\n",
    "n = int(input(\"Enter compounding frequency : \"))\n",
    "time = float(input(\"Enter time in years: \"))\n",
    "\n",
    "\n",
    "# Function call\n",
    "compound_interest(principal, rate, time, n)\n"
   ]
  }
 ],
 "metadata": {
  "kernelspec": {
   "display_name": "Python 3",
   "language": "python",
   "name": "python3"
  },
  "language_info": {
   "codemirror_mode": {
    "name": "ipython",
    "version": 3
   },
   "file_extension": ".py",
   "mimetype": "text/x-python",
   "name": "python",
   "nbconvert_exporter": "python",
   "pygments_lexer": "ipython3",
   "version": "3.11.9"
  }
 },
 "nbformat": 4,
 "nbformat_minor": 2
}
