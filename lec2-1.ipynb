{
 "cells": [
  {
   "cell_type": "markdown",
   "metadata": {},
   "source": [
    "Size of lists vs arrays\n",
    "\n",
    "Create lists and arrays using different sizes and methods.\n",
    "\n",
    "Compare their size in memory using the sys.getsizeof() function.\n",
    "\n",
    "Try\n",
    "\n",
    "Lists and arrays containing 5 integers\n",
    "Lists and array containing 20 integers\n",
    "Lists and array created using the range() function"
   ]
  },
  {
   "cell_type": "code",
   "execution_count": 1,
   "metadata": {},
   "outputs": [
    {
     "name": "stdout",
     "output_type": "stream",
     "text": [
      "Memory sizes for lists and arrays:\n",
      "\n",
      "List with 5 integers: 104 bytes\n",
      "Array with 5 integers: 100 bytes\n",
      "\n",
      "List with 20 integers: 248 bytes\n",
      "Array with 20 integers: 180 bytes\n",
      "\n",
      "List created using range(): 216 bytes\n",
      "Array created using range(): 180 bytes\n",
      "\n"
     ]
    }
   ],
   "source": [
    "import sys\n",
    "import array\n",
    "\n",
    "# Function to compare memory sizes of lists and arrays\n",
    "def compare_memory():\n",
    "    print(\"Memory sizes for lists and arrays:\\n\")\n",
    "\n",
    "    # 1. Lists and arrays containing 5 integers\n",
    "    list_5 = [1, 2, 3, 4, 5]\n",
    "    array_5 = array.array('i', [1, 2, 3, 4, 5])                   #The 'i' specifies that the array will hold integers (signed integer type).\n",
    "    print(f\"List with 5 integers: {sys.getsizeof(list_5)} bytes\")       #sys.getsizeof() function,to calculates the memory size of an object.\n",
    "    print(f\"Array with 5 integers: {sys.getsizeof(array_5)} bytes\\n\")\n",
    "\n",
    "    # 2. Lists and arrays containing 20 integers\n",
    "    list_20 = [i for i in range(1, 21)]          # i for i means adding numbers in order\n",
    "    array_20 = array.array('i', range(1, 21))    \n",
    "    print(f\"List with 20 integers: {sys.getsizeof(list_20)} bytes\")\n",
    "    print(f\"Array with 20 integers: {sys.getsizeof(array_20)} bytes\\n\")\n",
    "\n",
    "    # 3. Lists and arrays created using the range() function\n",
    "    list_range = list(range(20))\n",
    "    array_range = array.array('i', range(20))\n",
    "    print(f\"List created using range(): {sys.getsizeof(list_range)} bytes\")\n",
    "    print(f\"Array created using range(): {sys.getsizeof(array_range)} bytes\\n\")\n",
    "\n",
    "# Call the function\n",
    "compare_memory()\n"
   ]
  }
 ],
 "metadata": {
  "kernelspec": {
   "display_name": "Python 3",
   "language": "python",
   "name": "python3"
  },
  "language_info": {
   "codemirror_mode": {
    "name": "ipython",
    "version": 3
   },
   "file_extension": ".py",
   "mimetype": "text/x-python",
   "name": "python",
   "nbconvert_exporter": "python",
   "pygments_lexer": "ipython3",
   "version": "3.11.9"
  }
 },
 "nbformat": 4,
 "nbformat_minor": 2
}
