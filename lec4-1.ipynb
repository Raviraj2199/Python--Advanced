{
 "cells": [
  {
   "cell_type": "markdown",
   "metadata": {},
   "source": [
    "Spark end-to-end example\n",
    "\n",
    "Using this file complete the End-to-End example in Chapter 1 of textbook.\n",
    "\n",
    "Try different operations using DataFrame functions and SQL."
   ]
  },
  {
   "cell_type": "code",
   "execution_count": 1,
   "metadata": {},
   "outputs": [
    {
     "name": "stdout",
     "output_type": "stream",
     "text": [
      "root\n",
      " |-- DEST_COUNTRY_NAME: string (nullable = true)\n",
      " |-- ORIGIN_COUNTRY_NAME: string (nullable = true)\n",
      " |-- count: integer (nullable = true)\n",
      "\n",
      "+--------------------+-------------------+-----+\n",
      "|   DEST_COUNTRY_NAME|ORIGIN_COUNTRY_NAME|count|\n",
      "+--------------------+-------------------+-----+\n",
      "|       United States|            Croatia|    1|\n",
      "|       United States|            Ireland|  252|\n",
      "|               Egypt|      United States|   13|\n",
      "|       United States|              India|   62|\n",
      "|       United States|          Singapore|   25|\n",
      "|       United States|            Grenada|   46|\n",
      "|          Costa Rica|      United States|  522|\n",
      "|             Senegal|      United States|   31|\n",
      "|              Guyana|      United States|   65|\n",
      "|       United States|   Marshall Islands|   30|\n",
      "|       United States|       Sint Maarten|  245|\n",
      "|             Bolivia|      United States|   35|\n",
      "|            Anguilla|      United States|   19|\n",
      "|       United States|           Paraguay|    5|\n",
      "|       United States|        Afghanistan|    5|\n",
      "|Turks and Caicos ...|      United States|  183|\n",
      "|Saint Vincent and...|      United States|    6|\n",
      "|               Italy|      United States|  381|\n",
      "|            Pakistan|      United States|   12|\n",
      "|       United States|             Russia|  148|\n",
      "+--------------------+-------------------+-----+\n",
      "only showing top 20 rows\n",
      "\n"
     ]
    }
   ],
   "source": [
    "import os\n",
    "from pyspark.sql import SparkSession\n",
    "\n",
    "# Set Java path directly (replace this with your actual Java path)\n",
    "os.environ[\"JAVA_HOME\"] = r\"C:\\Program Files\\Microsoft\\jdk-11.0.26.4-hotspot\"\n",
    "\n",
    "# Create a Spark session\n",
    "spark = SparkSession.builder.appName(\"Flight Data Analysis\").getOrCreate()\n",
    "\n",
    "# File path\n",
    "file_path = \"D:/python/Week4/2012-summary.csv\"\n",
    "\n",
    "# Read the CSV file\n",
    "flightData2012 = spark.read \\\n",
    "    .option(\"inferSchema\", \"true\") \\\n",
    "    .option(\"header\", \"true\") \\\n",
    "    .csv(file_path)\n",
    "\n",
    "# Print the schema\n",
    "flightData2012.printSchema()\n",
    "\n",
    "# Show the first few rows\n",
    "flightData2012.show()\n"
   ]
  },
  {
   "cell_type": "code",
   "execution_count": 2,
   "metadata": {},
   "outputs": [
    {
     "name": "stdout",
     "output_type": "stream",
     "text": [
      "+--------------------+----------+\n",
      "| ORIGIN_COUNTRY_NAME|sum(count)|\n",
      "+--------------------+----------+\n",
      "|            Paraguay|         5|\n",
      "|              Russia|       148|\n",
      "|            Anguilla|        19|\n",
      "|             Senegal|        33|\n",
      "|              Sweden|        54|\n",
      "|            Kiribati|        26|\n",
      "|              Guyana|        79|\n",
      "|         Philippines|       112|\n",
      "|           Singapore|        25|\n",
      "|                Fiji|        26|\n",
      "|              Turkey|        89|\n",
      "|             Germany|      1413|\n",
      "|         Afghanistan|         5|\n",
      "|            Cambodia|         1|\n",
      "|              Jordan|        43|\n",
      "|               Palau|        35|\n",
      "|Turks and Caicos ...|       183|\n",
      "|              France|       840|\n",
      "|              Greece|        21|\n",
      "|British Virgin Is...|        78|\n",
      "+--------------------+----------+\n",
      "only showing top 20 rows\n",
      "\n"
     ]
    }
   ],
   "source": [
    "#Group by a column (e.g., \"ORIGIN_COUNTRY_NAME\") and sum the counts:\n",
    "flightData2012.groupBy(\"ORIGIN_COUNTRY_NAME\").sum(\"count\").show()\n"
   ]
  },
  {
   "cell_type": "markdown",
   "metadata": {},
   "source": [
    "Using SQL for the same operations"
   ]
  },
  {
   "cell_type": "code",
   "execution_count": 3,
   "metadata": {},
   "outputs": [],
   "source": [
    "#register the dataframe as sql view\n",
    "flightData2012.createOrReplaceTempView(\"flights\")\n"
   ]
  },
  {
   "cell_type": "code",
   "execution_count": 4,
   "metadata": {},
   "outputs": [
    {
     "name": "stdout",
     "output_type": "stream",
     "text": [
      "+-----------------+-------------------+-----+\n",
      "|DEST_COUNTRY_NAME|ORIGIN_COUNTRY_NAME|count|\n",
      "+-----------------+-------------------+-----+\n",
      "|    United States|            Croatia|    1|\n",
      "|    United States|            Ireland|  252|\n",
      "|            Egypt|      United States|   13|\n",
      "|    United States|              India|   62|\n",
      "|    United States|          Singapore|   25|\n",
      "|    United States|            Grenada|   46|\n",
      "|       Costa Rica|      United States|  522|\n",
      "|          Senegal|      United States|   31|\n",
      "|           Guyana|      United States|   65|\n",
      "|    United States|   Marshall Islands|   30|\n",
      "+-----------------+-------------------+-----+\n",
      "\n"
     ]
    }
   ],
   "source": [
    "#Run SQL queries on the view:\n",
    "# Example query to fetch top 10 records\n",
    "spark.sql(\"SELECT * FROM flights LIMIT 10\").show()\n",
    "\n"
   ]
  },
  {
   "cell_type": "code",
   "execution_count": 5,
   "metadata": {},
   "outputs": [
    {
     "name": "stdout",
     "output_type": "stream",
     "text": [
      "+-------------------+-----------+\n",
      "|ORIGIN_COUNTRY_NAME|total_count|\n",
      "+-------------------+-----------+\n",
      "|      United States|     385290|\n",
      "|             Canada|       8097|\n",
      "|             Mexico|       5974|\n",
      "|     United Kingdom|       1713|\n",
      "|              Japan|       1451|\n",
      "|            Germany|       1413|\n",
      "| Dominican Republic|       1123|\n",
      "|        The Bahamas|       1054|\n",
      "|             France|        840|\n",
      "|           Colombia|        806|\n",
      "|        South Korea|        703|\n",
      "|              China|        610|\n",
      "|            Jamaica|        610|\n",
      "|        Netherlands|        607|\n",
      "|             Brazil|        567|\n",
      "|         Costa Rica|        555|\n",
      "|        El Salvador|        465|\n",
      "|              Spain|        393|\n",
      "|             Panama|        393|\n",
      "|              Italy|        377|\n",
      "+-------------------+-----------+\n",
      "only showing top 20 rows\n",
      "\n"
     ]
    }
   ],
   "source": [
    "# Group by and aggregate\n",
    "spark.sql(\"\"\"\n",
    "    SELECT ORIGIN_COUNTRY_NAME, SUM(count) as total_count\n",
    "    FROM flights\n",
    "    GROUP BY ORIGIN_COUNTRY_NAME\n",
    "    ORDER BY total_count DESC\n",
    "\"\"\").show()"
   ]
  },
  {
   "cell_type": "code",
   "execution_count": 8,
   "metadata": {},
   "outputs": [
    {
     "name": "stdout",
     "output_type": "stream",
     "text": [
      "+--------------------+--------------------+-----+\n",
      "|   DEST_COUNTRY_NAME| ORIGIN_COUNTRY_NAME|count|\n",
      "+--------------------+--------------------+-----+\n",
      "|       United States|             Ireland|  252|\n",
      "|               Egypt|       United States|   13|\n",
      "|       United States|               India|   62|\n",
      "|       United States|           Singapore|   25|\n",
      "|       United States|             Grenada|   46|\n",
      "|          Costa Rica|       United States|  522|\n",
      "|             Senegal|       United States|   31|\n",
      "|              Guyana|       United States|   65|\n",
      "|       United States|    Marshall Islands|   30|\n",
      "|       United States|        Sint Maarten|  245|\n",
      "|             Bolivia|       United States|   35|\n",
      "|            Anguilla|       United States|   19|\n",
      "|Turks and Caicos ...|       United States|  183|\n",
      "|               Italy|       United States|  381|\n",
      "|            Pakistan|       United States|   12|\n",
      "|       United States|              Russia|  148|\n",
      "|       United States|Federated States ...|   63|\n",
      "|       United States|         Netherlands|  607|\n",
      "|             Iceland|       United States|  137|\n",
      "|    Marshall Islands|       United States|   60|\n",
      "+--------------------+--------------------+-----+\n",
      "only showing top 20 rows\n",
      "\n"
     ]
    }
   ],
   "source": [
    "# Filter rows\n",
    "spark.sql(\"\"\"\n",
    "    SELECT * FROM flights\n",
    "    WHERE count > 10\n",
    "\"\"\").show()"
   ]
  },
  {
   "cell_type": "code",
   "execution_count": 6,
   "metadata": {},
   "outputs": [],
   "source": [
    "spark.stop()"
   ]
  }
 ],
 "metadata": {
  "kernelspec": {
   "display_name": "Python 3",
   "language": "python",
   "name": "python3"
  },
  "language_info": {
   "codemirror_mode": {
    "name": "ipython",
    "version": 3
   },
   "file_extension": ".py",
   "mimetype": "text/x-python",
   "name": "python",
   "nbconvert_exporter": "python",
   "pygments_lexer": "ipython3",
   "version": "3.11.9"
  }
 },
 "nbformat": 4,
 "nbformat_minor": 2
}
