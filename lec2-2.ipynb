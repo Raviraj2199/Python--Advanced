{
 "cells": [
  {
   "cell_type": "markdown",
   "metadata": {},
   "source": [
    "B. Write Funct to find all jobs with salary greater \n",
    "1. Create a list of jobs where each jobs a dictionary of attribute/value.\n",
    "2. Write a function to find all jobs with salary greater the a given number (use input()\n",
    "function to get the number from users)\n",
    "3. Change the state of jobs returned by previous function to from False to True.\n",
    "Submit the notebook in Canvas\n",
    "• Explain your code through comments in Code blocks\n",
    "• Explain the formula and your results in Text blocks\n"
   ]
  },
  {
   "cell_type": "code",
   "execution_count": 1,
   "metadata": {},
   "outputs": [
    {
     "name": "stdout",
     "output_type": "stream",
     "text": [
      "Jobs Status: [{'company': 'Microsoft', 'Salary': 200000, 'Status': True}, {'company': 'Amazon', 'Salary': 300000, 'Status': True}, {'company': 'Google', 'Salary': 400000, 'Status': False}, {'company': 'Apple', 'Salary': 100000, 'Status': False}]\n",
      "\n",
      "Updated Job status: [{'company': 'Microsoft', 'Salary': 200000, 'Status': True}, {'company': 'Amazon', 'Salary': 300000, 'Status': True}, {'company': 'Google', 'Salary': 400000, 'Status': True}, {'company': 'Apple', 'Salary': 100000, 'Status': True}]\n"
     ]
    }
   ],
   "source": [
    "# approach to check applied job throshold and updating it\n",
    "\n",
    "def jobs(threshold):\n",
    "    #take inputs from the jobs\n",
    "    Jobs_Status = [\n",
    "        {\"company\":\"Microsoft\",\"Salary\":200000,\"Status\":True},\n",
    "        {\"company\":\"Amazon\",\"Salary\":300000,\"Status\":True},\n",
    "        {\"company\":\"Google\",\"Salary\":400000,\"Status\":False},\n",
    "        {\"company\":\"Apple\",\"Salary\":100000,\"Status\":False}\n",
    "        ]\n",
    "\n",
    "    print(\"Jobs Status:\", Jobs_Status)\n",
    "\n",
    "    # update state of jobs with a salary greater than the threshold\n",
    "    for job in Jobs_Status:\n",
    "        if job[\"Salary\"]>threshold:\n",
    "            job[\"Status\"] = True\n",
    "    \n",
    "    print(\"\\nUpdated Job status:\", Jobs_Status)\n",
    "    \n",
    "# Input: Getting the salary threshold from the user\n",
    "try:\n",
    "    threshold = int(input(\"Enter the salary threshold: \"))\n",
    "    jobs(threshold)\n",
    "except ValueError:\n",
    "    print(\"Please enter a valid number.\")"
   ]
  },
  {
   "cell_type": "code",
   "execution_count": 3,
   "metadata": {},
   "outputs": [
    {
     "name": "stdout",
     "output_type": "stream",
     "text": [
      "Initial Jobs Status:\n",
      "{'company': 'Microsoft', 'Salary': 200000, 'Status': True}\n",
      "{'company': 'Amazon', 'Salary': 300000, 'Status': True}\n",
      "{'company': 'Google', 'Salary': 400000, 'Status': False}\n",
      "{'company': 'Apple', 'Salary': 100000, 'Status': False}\n",
      "\n",
      "Updated Jobs Status:\n",
      "{'company': 'Microsoft', 'Salary': 200000, 'Status': True}\n",
      "{'company': 'Amazon', 'Salary': 300000, 'Status': True}\n",
      "{'company': 'Google', 'Salary': 400000, 'Status': True}\n",
      "{'company': 'Apple', 'Salary': 100000, 'Status': True}\n"
     ]
    }
   ],
   "source": [
    "# approach to check applied job throshold and updating it\n",
    "def find_and_update_jobs(threshold):\n",
    "    \"\"\"\n",
    "    Function to find all jobs with a salary greater than a given threshold\n",
    "    and update their status from False to True.\n",
    "    \"\"\"\n",
    "    # List of job dictionaries\n",
    "    jobs = [\n",
    "        {\"company\": \"Microsoft\", \"Salary\": 200000, \"Status\": True},\n",
    "        {\"company\": \"Amazon\", \"Salary\": 300000, \"Status\": True},\n",
    "        {\"company\": \"Google\", \"Salary\": 400000, \"Status\": False},\n",
    "        {\"company\": \"Apple\", \"Salary\": 100000, \"Status\": False},\n",
    "    ]\n",
    "\n",
    "    print(\"Initial Jobs Status:\")\n",
    "    for job in jobs:\n",
    "        print(job)\n",
    "\n",
    "    # Update the state of jobs with a salary greater than the threshold\n",
    "    for job in jobs:\n",
    "        if job[\"Salary\"] > threshold:\n",
    "            job[\"Status\"] = True\n",
    "\n",
    "    print(\"\\nUpdated Jobs Status:\")\n",
    "    for job in jobs:\n",
    "        print(job)\n",
    "\n",
    "# Input: Getting the salary threshold from the user\n",
    "try:\n",
    "    threshold = int(input(\"Enter the salary threshold: \"))\n",
    "    find_and_update_jobs(threshold)\n",
    "except ValueError:\n",
    "    print(\"Please enter a valid number.\")\n"
   ]
  }
 ],
 "metadata": {
  "kernelspec": {
   "display_name": "Python 3",
   "language": "python",
   "name": "python3"
  },
  "language_info": {
   "codemirror_mode": {
    "name": "ipython",
    "version": 3
   },
   "file_extension": ".py",
   "mimetype": "text/x-python",
   "name": "python",
   "nbconvert_exporter": "python",
   "pygments_lexer": "ipython3",
   "version": "3.11.9"
  }
 },
 "nbformat": 4,
 "nbformat_minor": 2
}
