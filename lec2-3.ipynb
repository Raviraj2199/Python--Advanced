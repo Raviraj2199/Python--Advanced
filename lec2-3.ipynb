{
 "cells": [
  {
   "cell_type": "markdown",
   "metadata": {},
   "source": [
    "Movie Data Extraction"
   ]
  },
  {
   "cell_type": "code",
   "execution_count": 4,
   "metadata": {},
   "outputs": [
    {
     "name": "stdout",
     "output_type": "stream",
     "text": [
      "Collecting requests\n",
      "  Downloading requests-2.32.3-py3-none-any.whl.metadata (4.6 kB)\n",
      "Collecting charset-normalizer<4,>=2 (from requests)\n",
      "  Downloading charset_normalizer-3.4.1-cp311-cp311-win_amd64.whl.metadata (36 kB)\n",
      "Collecting idna<4,>=2.5 (from requests)\n",
      "  Downloading idna-3.10-py3-none-any.whl.metadata (10 kB)\n",
      "Collecting urllib3<3,>=1.21.1 (from requests)\n",
      "  Downloading urllib3-2.3.0-py3-none-any.whl.metadata (6.5 kB)\n",
      "Collecting certifi>=2017.4.17 (from requests)\n",
      "  Downloading certifi-2024.12.14-py3-none-any.whl.metadata (2.3 kB)\n",
      "Downloading requests-2.32.3-py3-none-any.whl (64 kB)\n",
      "   ---------------------------------------- 0.0/64.9 kB ? eta -:--:--\n",
      "   ------------------ --------------------- 30.7/64.9 kB ? eta -:--:--\n",
      "   ---------------------------------------- 64.9/64.9 kB 1.8 MB/s eta 0:00:00\n",
      "Downloading certifi-2024.12.14-py3-none-any.whl (164 kB)\n",
      "   ---------------------------------------- 0.0/164.9 kB ? eta -:--:--\n",
      "   ---------------------------------------  163.8/164.9 kB 5.0 MB/s eta 0:00:01\n",
      "   ---------------------------------------- 164.9/164.9 kB 3.3 MB/s eta 0:00:00\n",
      "Downloading charset_normalizer-3.4.1-cp311-cp311-win_amd64.whl (102 kB)\n",
      "   ---------------------------------------- 0.0/102.4 kB ? eta -:--:--\n",
      "   ---------------------------------------- 102.4/102.4 kB 6.1 MB/s eta 0:00:00\n",
      "Downloading idna-3.10-py3-none-any.whl (70 kB)\n",
      "   ---------------------------------------- 0.0/70.4 kB ? eta -:--:--\n",
      "   ---------------------------------------- 70.4/70.4 kB 4.0 MB/s eta 0:00:00\n",
      "Downloading urllib3-2.3.0-py3-none-any.whl (128 kB)\n",
      "   ---------------------------------------- 0.0/128.4 kB ? eta -:--:--\n",
      "   ---------------------------------------- 128.4/128.4 kB 7.4 MB/s eta 0:00:00\n",
      "Installing collected packages: urllib3, idna, charset-normalizer, certifi, requests\n",
      "Successfully installed certifi-2024.12.14 charset-normalizer-3.4.1 idna-3.10 requests-2.32.3 urllib3-2.3.0\n"
     ]
    },
    {
     "name": "stderr",
     "output_type": "stream",
     "text": [
      "\n",
      "[notice] A new release of pip is available: 24.0 -> 24.3.1\n",
      "[notice] To update, run: C:\\Users\\Raviraj\\AppData\\Local\\Microsoft\\WindowsApps\\PythonSoftwareFoundation.Python.3.11_qbz5n2kfra8p0\\python.exe -m pip install --upgrade pip\n"
     ]
    }
   ],
   "source": [
    "!pip install requests"
   ]
  },
  {
   "cell_type": "code",
   "execution_count": 11,
   "metadata": {},
   "outputs": [
    {
     "name": "stdout",
     "output_type": "stream",
     "text": [
      "Extract: Red One is a 2024 American Christmas action film directed by Jake Kasdan and written by Chris Morgan, from an original story by Hiram Garcia. It stars Dwayne Johnson, Chris Evans, Lucy Liu, J. K. Simmons, Kiernan Shipka, Bonnie Hunt, Nick Kroll, Kristofer Hivju, and Wesley Kimmel. In the film, Callum Drift (Johnson), the head of North Pole security, teams up with the hacker Jack O'Malley (Evans) to locate a kidnapped Santa Claus (Simmons) on Christmas Eve. \n",
      "Produced by Amazon MGM Studios, Seven Bucks Productions, Chris Morgan Productions, and The Detective Agency, Red One is seen as the first of a Christmas-themed action film franchise. Principal photography for the film began in October 2022 and concluded in February 2023, with filming locations including Atlanta.\n",
      "Red One was first released theatrically by Warner Bros. Pictures internationally on November 6, 2024, and in the United States by Metro-Goldwyn-Mayer on November 15. The film has grossed $185.7 million worldwide on a budget of $200–$250 million and received generally negative reviews from critics.\n",
      "\n",
      "\n",
      "\n",
      "Financial Figures Found: ['$185.7 million', '$200', '$250 million']\n"
     ]
    }
   ],
   "source": [
    "import requests\n",
    "response = requests.get(\n",
    "    'https://en.wikipedia.org/w/api.php',\n",
    "# https://en.wikipedia.org/wiki/Red_One_(film) This is the HTML page URL for the Wikipedia article, not the correct API endpoint.\n",
    "# So for Media Wiki API endpoint: https://en.wikipedia.org/w/api.php, The MediaWiki API provides structured data (JSON format)\n",
    "    \n",
    "    params={\n",
    "        'action': 'query', #querying Wikipedia.\n",
    "        'format': 'json',   #specifies the response format (JSON)\n",
    "        'titles': 'Red One (film)',  # specifies the title of the Wikipedia\n",
    "        'prop': 'extracts', # fetches the page's summary (introductory extract).\n",
    "        'exintro': True, #restricts the extract to the introduction.\n",
    "        'explaintext': True, #ensures the result is plain text (not HTML).\n",
    "    }\n",
    ").json()\n",
    "\n",
    "# Step 2: Extract the page summary\n",
    "page = next(iter(response['query']['pages'].values()))\n",
    "extract = page['extract']  # Save the extract in a variable\n",
    "print(\"Extract:\", extract) #line fetches the first (and only) page returned.\n",
    "\n",
    "# Step 3: Use a regex to find financial figures in the extract\n",
    "financial_figures = re.findall(r'\\$\\d+(?:,\\d+)*(?:\\.\\d+)?\\s*(?:million|billion)?', extract)\n",
    "print(\"\\nFinancial Figures Found:\", financial_figures)\n",
    "\n",
    "# Uses a regular expression (r'\\$\\d+(?:,\\d+)*(?:\\.\\d+)?\\s*(?:million|billion)?') to find financial figures like:\n",
    "# 5 million\n",
    "# 5 billion\n",
    "# $10,000\n"
   ]
  }
 ],
 "metadata": {
  "kernelspec": {
   "display_name": "Python 3",
   "language": "python",
   "name": "python3"
  },
  "language_info": {
   "codemirror_mode": {
    "name": "ipython",
    "version": 3
   },
   "file_extension": ".py",
   "mimetype": "text/x-python",
   "name": "python",
   "nbconvert_exporter": "python",
   "pygments_lexer": "ipython3",
   "version": "3.11.9"
  }
 },
 "nbformat": 4,
 "nbformat_minor": 2
}
