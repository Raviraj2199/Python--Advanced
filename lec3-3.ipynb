{
 "cells": [
  {
   "cell_type": "markdown",
   "metadata": {},
   "source": [
    "Week 3 Excercise 2\n",
    "\n",
    "Go to Ireland’s Open Data Portal at https://data.gov.ie/Links to an external site.\n",
    "\n",
    "1.Select and download a dataset of your choice in CSV format \n",
    "2.Load the dataset using the read_csv() function in pandas package\n",
    "3.Using the describe() function to explore the summary statistics and find missing values.\n",
    "4.Impute the missing values if any.\n",
    "5.Create one graph using the matplotlib or seaborn package"
   ]
  },
  {
   "cell_type": "code",
   "execution_count": 2,
   "metadata": {},
   "outputs": [
    {
     "data": {
      "text/plain": [
       "Id               0\n",
       "SepalLengthCm    0\n",
       "SepalWidthCm     0\n",
       "PetalLengthCm    0\n",
       "PetalWidthCm     0\n",
       "Species          0\n",
       "dtype: int64"
      ]
     },
     "execution_count": 2,
     "metadata": {},
     "output_type": "execute_result"
    }
   ],
   "source": [
    "import pandas as pd \n",
    "import matplotlib.pyplot as plt\n",
    "import seaborn as sns\n",
    "import numpy as np\n",
    "\n",
    "#read the data\n",
    "data = pd.read_csv(\"D:/python/Iris.csv\")\n",
    "\n",
    "#describe the data\n",
    "data.describe()\n",
    "\n",
    "#check missing values\n",
    "data.isnull().sum()\n"
   ]
  },
  {
   "cell_type": "code",
   "execution_count": 3,
   "metadata": {},
   "outputs": [
    {
     "name": "stdout",
     "output_type": "stream",
     "text": [
      "Type of data= <class 'pandas.core.frame.DataFrame'>\n"
     ]
    }
   ],
   "source": [
    "#check type of data\n",
    "print(\"Type of data=\",type(data))"
   ]
  },
  {
   "cell_type": "code",
   "execution_count": 7,
   "metadata": {},
   "outputs": [
    {
     "name": "stdout",
     "output_type": "stream",
     "text": [
      "Min value=\n",
      " SepalLengthCm    4.3\n",
      "SepalWidthCm     2.0\n",
      "PetalLengthCm    1.0\n",
      "PetalWidthCm     0.1\n",
      "dtype: float64\n",
      "Max value=\n",
      " SepalLengthCm    7.9\n",
      "SepalWidthCm     4.4\n",
      "PetalLengthCm    6.9\n",
      "PetalWidthCm     2.5\n",
      "dtype: float64\n",
      "Mean value=\n",
      " SepalLengthCm    5.843333\n",
      "SepalWidthCm     3.054000\n",
      "PetalLengthCm    3.758667\n",
      "PetalWidthCm     1.198667\n",
      "dtype: float64\n",
      "Median value=\n",
      " SepalLengthCm    5.80\n",
      "SepalWidthCm     3.00\n",
      "PetalLengthCm    4.35\n",
      "PetalWidthCm     1.30\n",
      "dtype: float64\n",
      "Standard deviation value=\n",
      " SepalLengthCm    0.828066\n",
      "SepalWidthCm     0.433594\n",
      "PetalLengthCm    1.764420\n",
      "PetalWidthCm     0.763161\n",
      "dtype: float64\n"
     ]
    }
   ],
   "source": [
    "# Exclude non-numeric columns\n",
    "numeric_data = data.drop(columns=[\"Id\", \"Species\"])\n",
    "\n",
    "# Compute statistics\n",
    "min_values = numeric_data.min()\n",
    "max_values = numeric_data.max()\n",
    "mean_values = numeric_data.mean()\n",
    "median_values = numeric_data.median()\n",
    "std_values = numeric_data.std()\n",
    "\n",
    "# Print results\n",
    "print(\"Min value=\\n\", min_values)\n",
    "print(\"Max value=\\n\", max_values)\n",
    "print(\"Mean value=\\n\", mean_values)\n",
    "print(\"Median value=\\n\", median_values)\n",
    "print(\"Standard deviation value=\\n\", std_values)"
   ]
  },
  {
   "cell_type": "code",
   "execution_count": 8,
   "metadata": {},
   "outputs": [
    {
     "data": {
      "image/png": "[encoded data removed]",
      "text/plain": [
       "<Figure size 640x480 with 1 Axes>"
      ]
     },
     "metadata": {},
     "output_type": "display_data"
    }
   ],
   "source": [
    "#plot histogram\n",
    "sns.histplot(data=data)\n",
    "plt.show()"
   ]
  }
 ],
 "metadata": {
  "kernelspec": {
   "display_name": "Python 3",
   "language": "python",
   "name": "python3"
  },
  "language_info": {
   "codemirror_mode": {
    "name": "ipython",
    "version": 3
   },
   "file_extension": ".py",
   "mimetype": "text/x-python",
   "name": "python",
   "nbconvert_exporter": "python",
   "pygments_lexer": "ipython3",
   "version": "3.11.9"
  }
 },
 "nbformat": 4,
 "nbformat_minor": 2
}
